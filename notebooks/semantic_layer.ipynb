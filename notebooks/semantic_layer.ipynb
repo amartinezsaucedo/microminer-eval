{
 "cells": [
  {
   "cell_type": "code",
   "execution_count": 1,
   "metadata": {
    "pycharm": {
     "is_executing": true,
     "name": "#%%\n"
    }
   },
   "outputs": [
    {
     "name": "stdout",
     "output_type": "stream",
     "text": [
      "\n",
      "\u001B[1m[\u001B[0m\u001B[34;49mnotice\u001B[0m\u001B[1;39;49m]\u001B[0m\u001B[39;49m A new release of pip is available: \u001B[0m\u001B[31;49m23.1.2\u001B[0m\u001B[39;49m -> \u001B[0m\u001B[32;49m24.2\u001B[0m\n",
      "\u001B[1m[\u001B[0m\u001B[34;49mnotice\u001B[0m\u001B[1;39;49m]\u001B[0m\u001B[39;49m To update, run: \u001B[0m\u001B[32;49mpip install --upgrade pip\u001B[0m\n"
     ]
    }
   ],
   "source": [
    "!pip install -qU \"semantic-router[local]\""
   ]
  },
  {
   "cell_type": "code",
   "execution_count": 2,
   "metadata": {
    "collapsed": false,
    "jupyter": {
     "outputs_hidden": false
    },
    "pycharm": {
     "name": "#%%\n"
    }
   },
   "outputs": [],
   "source": [
    "GROQ_API_KEY = \"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\""
   ]
  },
  {
   "cell_type": "code",
   "execution_count": 3,
   "metadata": {
    "collapsed": false,
    "jupyter": {
     "outputs_hidden": false
    },
    "pycharm": {
     "is_executing": true,
     "name": "#%%\n"
    }
   },
   "outputs": [
    {
     "name": "stderr",
     "output_type": "stream",
     "text": [
      "[nltk_data] Downloading package punkt_tab to\n",
      "[nltk_data]     /home/ana/Documents/Proyectos/microminer-\n",
      "[nltk_data]     eval/.venv/lib/python3.11/site-\n",
      "[nltk_data]     packages/llama_index/core/_static/nltk_cache...\n",
      "[nltk_data]   Package punkt_tab is already up-to-date!\n",
      "/home/ana/Documents/Proyectos/microminer-eval/.venv/lib/python3.11/site-packages/ema_workbench/em_framework/__init__.py:101: UserWarning: ipyparallel not installed - IpyparalleEvaluator not available\n",
      "  warnings.warn(\"ipyparallel not installed - IpyparalleEvaluator not available\")\n"
     ]
    }
   ],
   "source": [
    "from llama_index.agent.openai import OpenAIAgent\n",
    "from llama_index.llms.groq import Groq\n",
    "from llama_index.core.tools import FunctionTool\n",
    "from semantic_router import Route\n",
    "from semantic_router.encoders import HuggingFaceEncoder\n",
    "from semantic_router.layer import RouteLayer\n",
    "from IPython.display import Markdown\n",
    "from ema_workbench import load_results\n",
    "from sklearn.preprocessing import StandardScaler\n",
    "from sklearn.cluster import AgglomerativeClustering\n",
    "from sklearn.decomposition import PCA\n",
    "from sklearn.manifold import MDS\n",
    "from sklearn import metrics\n",
    "import pandas as pd\n",
    "import matplotlib.pyplot as plt\n",
    "import numpy as np\n",
    "import scipy.cluster.hierarchy as sch\n",
    "from sklearn_extra.cluster import KMedoids\n",
    "import pickle\n",
    "import seaborn as sns"
   ]
  },
  {
   "cell_type": "code",
   "execution_count": 4,
   "metadata": {
    "collapsed": false,
    "jupyter": {
     "outputs_hidden": false
    },
    "pycharm": {
     "name": "#%%\n"
    }
   },
   "outputs": [],
   "source": [
    "class DecompositionSpace:\n",
    "    def __init__(self, project_path, project_name):\n",
    "        model_filename = f\"{project_path}/{project_name}_128scenarios_nopolicies_sobol\" #.tar.gz'\n",
    "        experiments_df, outcomes = load_results(model_filename+ '.tar.gz')\n",
    "        self.outcomes = pd.DataFrame(outcomes)\n",
    "        self.experiments = experiments_df\n",
    "        with open(model_filename+'_model.pkl', 'rb') as input:\n",
    "            self.uncertainties_problem = pickle.load(input)\n",
    "        with open(model_filename+'_partitions.pkl', 'rb') as input:\n",
    "            self.partitions = pickle.load(input)\n",
    "        similarity_filename = f\"{project_path}/{project_name}_omega_scores.csv\"\n",
    "        self.partitions_distance = 1 - pd.read_csv(similarity_filename, index_col=0)\n",
    "        stable_solutions_filename = f\"{project_path}/{project_name}_stable_solutions.pkl\"\n",
    "        with open(stable_solutions_filename, 'rb') as f:\n",
    "             self.stable_solutions = pickle.load(f)\n",
    "             self.other_labels = self.stable_solutions.keys()\n",
    "        mds = MDS(dissimilarity='precomputed', random_state=0)\n",
    "        self.embeddings_2d_partitions = mds.fit_transform(self.partitions_distance)\n",
    "        partition_labels_2d, _, silhouette = self.run_agglomerative(self.embeddings_2d_partitions, k=5, threshold=None, \n",
    "                                                       show_dendogram=True, normalize=True, n_pca=2)\n",
    "        self.partition_labels = partition_labels_2d\n",
    "\n",
    "    def run_agglomerative(self, df, k, threshold=200, n_pca=None, normalize=False, show_dendogram=False, archstructure=None):    \n",
    "      if normalize:\n",
    "        sample = StandardScaler().fit_transform(df)\n",
    "      else:\n",
    "        sample = df.values\n",
    "    \n",
    "      if n_pca is not None:\n",
    "        pca = PCA(n_components=n_pca)\n",
    "        sample_pca = sample\n",
    "        model = AgglomerativeClustering(n_clusters=k, affinity='euclidean', linkage='ward',\n",
    "                                        connectivity=archstructure, distance_threshold=threshold)\n",
    "        model.fit(sample_pca)\n",
    "        X = sample_pca\n",
    "      else:\n",
    "        model = AgglomerativeClustering(n_clusters=k, affinity='precomputed', linkage='single',\n",
    "                                      connectivity=archstructure, distance_threshold=threshold)\n",
    "        model.fit(sample)\n",
    "      labels = model.labels_\n",
    "      fixed_labels = np.where(model.labels_ < 0, 0, model.labels_)\n",
    "      classes = set(fixed_labels)\n",
    "      if len(classes) > 1:\n",
    "        if n_pca is not None:\n",
    "          silhouette = metrics.silhouette_score(sample_pca, fixed_labels)\n",
    "        else:\n",
    "          silhouette = metrics.silhouette_score(sample, fixed_labels)\n",
    "      else:\n",
    "        silhouette = 0.0    \n",
    "      return fixed_labels, model, silhouette\n",
    "\n",
    "    def get_decompositions_by_metric(self, metric: str, k: int, asc: bool) -> list:\n",
    "        return self.outcomes.sort_values(by=[metric], ascending=[asc]).head(k)\n",
    "\n",
    "    def get_xy_coordinates(self, labels, embeddings_2d, distance_df):\n",
    "        xy_coordinates = []\n",
    "        for lb in labels:\n",
    "            idx = list(distance_df.columns).index(lb)\n",
    "            xy_coordinates.append(embeddings_2d[idx])\n",
    "        return xy_coordinates\n",
    "\n",
    "    def get_decomposition_space(self, labels: [] = []) -> plt.plot: \n",
    "        fig = plt.figure(figsize=(8,6))\n",
    "        df = pd.DataFrame(self.embeddings_2d_partitions, columns=['x', 'y'])\n",
    "        df['cluster'] = self.partition_labels \n",
    "        ax = sns.scatterplot(data=df, x=\"x\", y=\"y\", hue=\"cluster\", palette=\"tab10\", alpha=0.3, legend='full', sizes=(20, 200))\n",
    "        ax.set(xlabel=None)\n",
    "        ax.set(ylabel=None)\n",
    "        if len(labels) > 0:\n",
    "            medoids = np.array(self.get_xy_coordinates(labels, self.embeddings_2d_partitions, self.partitions_distance))\n",
    "            ax.plot(medoids[:,0], medoids[:,1], 'X', markersize=9, alpha=0.7, color='black')\n",
    "            for idx, lb in enumerate(labels):\n",
    "                    ax.annotate(lb, (medoids[idx,0], medoids[idx,1]))\n",
    "            \n",
    "        plt.grid(False)\n",
    "        return plt\n",
    "\n",
    "    #TODO translate/map quality attributes to metrics"
   ]
  },
  {
   "cell_type": "code",
   "execution_count": 5,
   "metadata": {
    "collapsed": false,
    "jupyter": {
     "outputs_hidden": false
    },
    "pycharm": {
     "name": "#%%\n"
    }
   },
   "outputs": [],
   "source": [
    "class SemanticLayer:\n",
    "    SYSTEM_PROMPT = \"\"\"Your are an expert software architect that assists users to explore and understand a de.\n",
    "        You have a deep understanding of monolith to microservices migration and microservices quality metrics.\n",
    "        Your role is to help users to understand the decomposition space to pick the most suitable microservices decomposition according to the user need.\n",
    "        \"\"\"\n",
    "\n",
    "    def __init__(self, decomposition_space=None) -> None:\n",
    "        self.llm = Groq(model=\"llama3-8b-8192\", api_key=GROQ_API_KEY, base_url=\"https://api.groq.com/openai/v1\")\n",
    "        self.agent = None\n",
    "        self.intent_detector = None\n",
    "        self.decomposition_space = decomposition_space\n",
    "\n",
    "\n",
    "    def show_decomposition_space(self) -> plt.plot:\n",
    "        \"\"\" Gets the decomposition space (plot)\n",
    "\n",
    "        Returns:\n",
    "            plt.plot: The plot of the decomposition space\n",
    "        \"\"\"\n",
    "        return self.decomposition_space.get_decomposition_space().show()\n",
    "\n",
    "    def get_decomposition_by_metric(self, k: int, metric: str, asc: bool) -> pd.DataFrame:\n",
    "        \"\"\" Gets the K decompositions matching a metric condition\n",
    "\n",
    "          Args:\n",
    "            k (int): The number of decompositions to retrieve.\n",
    "            metric (str): The metric to match the decompositions against.\n",
    "            asc (bool): Whether to obtain the decompositions that match a metric higher or lower\n",
    "    \n",
    "        Returns:\n",
    "            pd.DataFrame: The K decompositions ordered by asc param against the metric passed as parameter.\n",
    "        \"\"\"\n",
    "        return self.decomposition_space.get_decompositions_by_metric(metric, k, asc)\n",
    "\n",
    "    def show_decomposition_in_space(self, k: int, metric: str, asc: bool) -> plt.plot:\n",
    "        \"\"\" Show in the decomposition space (plot) the desired K decompositions matching a metric condition\n",
    "\n",
    "        Args:\n",
    "            k (int): The number of decompositions to show.\n",
    "            metric (str): The metric to match the decompositions against.\n",
    "            asc (bool): Whether to show the decompositions that match a metric higher or lower\n",
    "    \n",
    "\n",
    "        Returns:\n",
    "            plt.plot: The plot of the decomposition space with the decompositions found\n",
    "        \"\"\"\n",
    "        decompositions = self.decomposition_space.get_decompositions_by_metric(metric, k, asc)\n",
    "        indexes = decompositions.index.values\n",
    "        labels = []\n",
    "        for index in indexes:\n",
    "            value = self.decomposition_space.experiments.iloc[index]\n",
    "            print(value)\n",
    "            labels.append(f\"resolution_{value['resolution']}_k_{value['k']}\")\n",
    "        return self.decomposition_space.get_decomposition_space(labels).show()\n",
    "\n",
    "   \n",
    "    def _get_tools(self):\n",
    "        return [ # All the functions that the agent can execute\n",
    "            FunctionTool.from_defaults(fn=self.show_decomposition_space, return_direct=True),\n",
    "            FunctionTool.from_defaults(fn=self.get_decomposition_by_metric, return_direct=True),\n",
    "            FunctionTool.from_defaults(fn=self.show_decomposition_in_space, return_direct=True),\n",
    "        ]\n",
    "\n",
    "    def _configure_routes():\n",
    "        return [\n",
    "            Route(\n",
    "                name=\"show_decomposition_space\",\n",
    "                utterances=[\n",
    "                    \"Which decompositions are generated?\",\n",
    "                    \"Show me the decomposition space graphically\",\n",
    "                    \"Get all decompositions graphically\",\n",
    "                    \"Show me all decompositions\",\n",
    "                    \"Show the decomposition space\",\n",
    "                    \"Show the decomposition space graphically\"\n",
    "                ],\n",
    "                description=\"Show the decomposition space graphically.\"\n",
    "            ),\n",
    "            Route(\n",
    "                name=\"get_decomposition_by_metric\",\n",
    "                utterances=[\n",
    "                    \"Get the X decompositions with less Y\",\n",
    "                    \"Get me X decompositions with more Y\",\n",
    "                    \"Which is the decomposition with more X?\",\n",
    "                    \"Which is the decomposition with less X?\",\n",
    "                    \"Which is the decomposition of highest X?\",\n",
    "                    \"Which is the decomposition of lowest X?\",\n",
    "                ],\n",
    "                description=\"Get the K decompositions that match a preferring metric.\"\n",
    "            ),\n",
    "            Route(\n",
    "                name=\"show_decomposition_in_space\",\n",
    "                utterances=[\n",
    "                    \"Show me the decomposition with more X\",\n",
    "                    \"Get a plot of the decomposition X\",\n",
    "                    \"Show me the decomposition with more X graphically\",\n",
    "                    \"Show me the decomposition with lowest X graphically\",\n",
    "                    \"Show me the decomposition with highest X graphically\",\n",
    "                    \"Show me the decomposition of lowest X graphically\",\n",
    "                    \"Show me the decomposition of highest X graphically\",\n",
    "                ],\n",
    "                description=\"Show the K decompositions that match a preferring metric in the decomposition space.\"\n",
    "            )\n",
    "        ]\n",
    "\n",
    "    def clear_memory(self):\n",
    "        self.agent.reset()\n",
    "\n",
    "    def chat(self, question):\n",
    "\n",
    "        if self.agent is None: # Kind of Singleton\n",
    "            enable_gpu=True\n",
    "            tools = self._get_tools()\n",
    "            self.agent = OpenAIAgent.from_tools(tools, llm=self.llm, system_prompt=SemanticLayer.SYSTEM_PROMPT, verbose=True)\n",
    "            encoder = HuggingFaceEncoder()\n",
    "            self.intent_detector = RouteLayer(encoder=encoder, routes=SemanticLayer._configure_routes(), llm=self.llm)\n",
    "\n",
    "        intent  = self.intent_detector(question)\n",
    "        print(\"Intent detected:\", intent.name)\n",
    "\n",
    "        if intent.name is None:\n",
    "            msg = \"I'm sorry, I did not understand your question or I'm no able to answer it. Please try again...\"\n",
    "            return display(Markdown(f\"<b>{msg}</b>\"))\n",
    "\n",
    "        function_name = \"\\nTry to execute tool \"+intent.name if (intent.name is not None) and (intent.name != 'misc') else \"\"\n",
    "        response = self.agent.chat(question+function_name)\n",
    "\n",
    "        if response.sources is None or len(response.sources) == 0:\n",
    "            return display(Markdown(f\"<b>{response.response}</b>\"))\n",
    "\n",
    "        obj = response.sources[0].raw_output\n",
    "\n",
    "        show_op = getattr(obj, \"show\", None)\n",
    "        if callable(show_op):\n",
    "            msg =  \"This is a graphical representation of the results for your question.\"\n",
    "            display(Markdown(f\"<b>{msg}</b>\"))\n",
    "            show_op()\n",
    "            return None\n",
    "\n",
    "        return obj"
   ]
  },
  {
   "cell_type": "code",
   "execution_count": 6,
   "metadata": {
    "pycharm": {
     "name": "#%%\n"
    }
   },
   "outputs": [
    {
     "name": "stderr",
     "output_type": "stream",
     "text": [
      "/home/ana/Documents/Proyectos/microminer-eval/.venv/lib/python3.11/site-packages/sklearn/manifold/_mds.py:299: FutureWarning: The default value of `normalized_stress` will change to `'auto'` in version 1.4. To suppress this warning, manually set the value of `normalized_stress`.\n",
      "  warnings.warn(\n",
      "/home/ana/Documents/Proyectos/microminer-eval/.venv/lib/python3.11/site-packages/sklearn/cluster/_agglomerative.py:983: FutureWarning: Attribute `affinity` was deprecated in version 1.2 and will be removed in 1.4. Use `metric` instead\n",
      "  warnings.warn(\n"
     ]
    }
   ],
   "source": [
    "decomposition_space = DecompositionSpace(\"../jpetstore\", \"jpetstore\")"
   ]
  },
  {
   "cell_type": "code",
   "execution_count": 7,
   "metadata": {
    "collapsed": false,
    "jupyter": {
     "outputs_hidden": false
    },
    "pycharm": {
     "name": "#%%\n"
    }
   },
   "outputs": [],
   "source": [
    "layer = SemanticLayer(decomposition_space)"
   ]
  },
  {
   "cell_type": "code",
   "execution_count": 8,
   "metadata": {
    "pycharm": {
     "name": "#%%\n"
    }
   },
   "outputs": [
    {
     "name": "stderr",
     "output_type": "stream",
     "text": [
      "/home/ana/Documents/Proyectos/microminer-eval/.venv/lib/python3.11/site-packages/transformers/tokenization_utils_base.py:1617: FutureWarning: `clean_up_tokenization_spaces` was not set. It will be set to `True` by default. This behavior will be deprecated in transformers v4.45, and will be then set to `False` by default. For more details check this issue: https://github.com/huggingface/transformers/issues/31884\n",
      "  warnings.warn(\n"
     ]
    },
    {
     "name": "stdout",
     "output_type": "stream",
     "text": [
      "Intent detected: get_decomposition_by_metric\n",
      "Added user message to memory: Get the 10 decompositions with higher density\n",
      "Try to execute tool get_decomposition_by_metric\n",
      "=== Calling Function ===\n",
      "Calling function: get_decomposition_by_metric with args: {\"k\":10,\"metric\":\"density\",\"asc\":true}\n",
      "Got output:      n_partitions  modularity    ned   density  noise_classes\n",
      "256           7.0   -0.010099  0.417  3.594221           17.0\n",
      "573           8.0    0.007161  0.542  3.628007           17.0\n",
      "290           7.0    0.005619  0.500  3.703486           17.0\n",
      "16            6.0    0.009279  0.125  3.710195           17.0\n",
      "167           5.0   -0.019948  0.208  3.904762           17.0\n",
      "692          11.0   -0.000871  1.000  3.970634           17.0\n",
      "5             6.0    0.011666  0.292  3.991982           17.0\n",
      "384           6.0    0.012466  0.125  3.991982           17.0\n",
      "192           6.0    0.012017  0.292  4.012109           17.0\n",
      "490           6.0    0.004822  0.458  4.025528           17.0\n",
      "========================\n",
      "\n"
     ]
    },
    {
     "data": {
      "text/html": [
       "<div>\n",
       "<style scoped>\n",
       "    .dataframe tbody tr th:only-of-type {\n",
       "        vertical-align: middle;\n",
       "    }\n",
       "\n",
       "    .dataframe tbody tr th {\n",
       "        vertical-align: top;\n",
       "    }\n",
       "\n",
       "    .dataframe thead th {\n",
       "        text-align: right;\n",
       "    }\n",
       "</style>\n",
       "<table border=\"1\" class=\"dataframe\">\n",
       "  <thead>\n",
       "    <tr style=\"text-align: right;\">\n",
       "      <th></th>\n",
       "      <th>n_partitions</th>\n",
       "      <th>modularity</th>\n",
       "      <th>ned</th>\n",
       "      <th>density</th>\n",
       "      <th>noise_classes</th>\n",
       "    </tr>\n",
       "  </thead>\n",
       "  <tbody>\n",
       "    <tr>\n",
       "      <th>256</th>\n",
       "      <td>7.0</td>\n",
       "      <td>-0.010099</td>\n",
       "      <td>0.417</td>\n",
       "      <td>3.594221</td>\n",
       "      <td>17.0</td>\n",
       "    </tr>\n",
       "    <tr>\n",
       "      <th>573</th>\n",
       "      <td>8.0</td>\n",
       "      <td>0.007161</td>\n",
       "      <td>0.542</td>\n",
       "      <td>3.628007</td>\n",
       "      <td>17.0</td>\n",
       "    </tr>\n",
       "    <tr>\n",
       "      <th>290</th>\n",
       "      <td>7.0</td>\n",
       "      <td>0.005619</td>\n",
       "      <td>0.500</td>\n",
       "      <td>3.703486</td>\n",
       "      <td>17.0</td>\n",
       "    </tr>\n",
       "    <tr>\n",
       "      <th>16</th>\n",
       "      <td>6.0</td>\n",
       "      <td>0.009279</td>\n",
       "      <td>0.125</td>\n",
       "      <td>3.710195</td>\n",
       "      <td>17.0</td>\n",
       "    </tr>\n",
       "    <tr>\n",
       "      <th>167</th>\n",
       "      <td>5.0</td>\n",
       "      <td>-0.019948</td>\n",
       "      <td>0.208</td>\n",
       "      <td>3.904762</td>\n",
       "      <td>17.0</td>\n",
       "    </tr>\n",
       "    <tr>\n",
       "      <th>692</th>\n",
       "      <td>11.0</td>\n",
       "      <td>-0.000871</td>\n",
       "      <td>1.000</td>\n",
       "      <td>3.970634</td>\n",
       "      <td>17.0</td>\n",
       "    </tr>\n",
       "    <tr>\n",
       "      <th>5</th>\n",
       "      <td>6.0</td>\n",
       "      <td>0.011666</td>\n",
       "      <td>0.292</td>\n",
       "      <td>3.991982</td>\n",
       "      <td>17.0</td>\n",
       "    </tr>\n",
       "    <tr>\n",
       "      <th>384</th>\n",
       "      <td>6.0</td>\n",
       "      <td>0.012466</td>\n",
       "      <td>0.125</td>\n",
       "      <td>3.991982</td>\n",
       "      <td>17.0</td>\n",
       "    </tr>\n",
       "    <tr>\n",
       "      <th>192</th>\n",
       "      <td>6.0</td>\n",
       "      <td>0.012017</td>\n",
       "      <td>0.292</td>\n",
       "      <td>4.012109</td>\n",
       "      <td>17.0</td>\n",
       "    </tr>\n",
       "    <tr>\n",
       "      <th>490</th>\n",
       "      <td>6.0</td>\n",
       "      <td>0.004822</td>\n",
       "      <td>0.458</td>\n",
       "      <td>4.025528</td>\n",
       "      <td>17.0</td>\n",
       "    </tr>\n",
       "  </tbody>\n",
       "</table>\n",
       "</div>"
      ],
      "text/plain": [
       "     n_partitions  modularity    ned   density  noise_classes\n",
       "256           7.0   -0.010099  0.417  3.594221           17.0\n",
       "573           8.0    0.007161  0.542  3.628007           17.0\n",
       "290           7.0    0.005619  0.500  3.703486           17.0\n",
       "16            6.0    0.009279  0.125  3.710195           17.0\n",
       "167           5.0   -0.019948  0.208  3.904762           17.0\n",
       "692          11.0   -0.000871  1.000  3.970634           17.0\n",
       "5             6.0    0.011666  0.292  3.991982           17.0\n",
       "384           6.0    0.012466  0.125  3.991982           17.0\n",
       "192           6.0    0.012017  0.292  4.012109           17.0\n",
       "490           6.0    0.004822  0.458  4.025528           17.0"
      ]
     },
     "execution_count": 8,
     "metadata": {},
     "output_type": "execute_result"
    }
   ],
   "source": [
    "layer.chat(\"Get the 10 decompositions with higher density\")"
   ]
  },
  {
   "cell_type": "code",
   "execution_count": 9,
   "metadata": {
    "pycharm": {
     "name": "#%%\n"
    }
   },
   "outputs": [
    {
     "name": "stdout",
     "output_type": "stream",
     "text": [
      "Intent detected: get_decomposition_by_metric\n",
      "Added user message to memory: Get the decomposition with lowest ned\n",
      "Try to execute tool get_decomposition_by_metric\n",
      "=== Calling Function ===\n",
      "Calling function: get_decomposition_by_metric with args: {\"k\":1,\"metric\":\"ned\",\"asc\":false}\n",
      "Got output:      n_partitions  modularity  ned   density  noise_classes\n",
      "223           7.0    0.016131  1.0  6.038292           17.0\n",
      "========================\n",
      "\n"
     ]
    },
    {
     "data": {
      "text/html": [
       "<div>\n",
       "<style scoped>\n",
       "    .dataframe tbody tr th:only-of-type {\n",
       "        vertical-align: middle;\n",
       "    }\n",
       "\n",
       "    .dataframe tbody tr th {\n",
       "        vertical-align: top;\n",
       "    }\n",
       "\n",
       "    .dataframe thead th {\n",
       "        text-align: right;\n",
       "    }\n",
       "</style>\n",
       "<table border=\"1\" class=\"dataframe\">\n",
       "  <thead>\n",
       "    <tr style=\"text-align: right;\">\n",
       "      <th></th>\n",
       "      <th>n_partitions</th>\n",
       "      <th>modularity</th>\n",
       "      <th>ned</th>\n",
       "      <th>density</th>\n",
       "      <th>noise_classes</th>\n",
       "    </tr>\n",
       "  </thead>\n",
       "  <tbody>\n",
       "    <tr>\n",
       "      <th>223</th>\n",
       "      <td>7.0</td>\n",
       "      <td>0.016131</td>\n",
       "      <td>1.0</td>\n",
       "      <td>6.038292</td>\n",
       "      <td>17.0</td>\n",
       "    </tr>\n",
       "  </tbody>\n",
       "</table>\n",
       "</div>"
      ],
      "text/plain": [
       "     n_partitions  modularity  ned   density  noise_classes\n",
       "223           7.0    0.016131  1.0  6.038292           17.0"
      ]
     },
     "execution_count": 9,
     "metadata": {},
     "output_type": "execute_result"
    }
   ],
   "source": [
    "layer.chat(\"Get the decomposition with lowest ned\")"
   ]
  },
  {
   "cell_type": "code",
   "execution_count": 10,
   "metadata": {
    "pycharm": {
     "name": "#%%\n"
    }
   },
   "outputs": [
    {
     "name": "stdout",
     "output_type": "stream",
     "text": [
      "Intent detected: get_decomposition_by_metric\n",
      "Added user message to memory: Which is the decomposition of highest modularity?\n",
      "Try to execute tool get_decomposition_by_metric\n",
      "=== Calling Function ===\n",
      "Calling function: get_decomposition_by_metric with args: {\"k\":1,\"metric\":\"modularity\",\"asc\":true}\n",
      "Got output:      n_partitions  modularity    ned  density  noise_classes\n",
      "576           4.0    -0.02848  0.292  6.60278           17.0\n",
      "========================\n",
      "\n"
     ]
    },
    {
     "data": {
      "text/html": [
       "<div>\n",
       "<style scoped>\n",
       "    .dataframe tbody tr th:only-of-type {\n",
       "        vertical-align: middle;\n",
       "    }\n",
       "\n",
       "    .dataframe tbody tr th {\n",
       "        vertical-align: top;\n",
       "    }\n",
       "\n",
       "    .dataframe thead th {\n",
       "        text-align: right;\n",
       "    }\n",
       "</style>\n",
       "<table border=\"1\" class=\"dataframe\">\n",
       "  <thead>\n",
       "    <tr style=\"text-align: right;\">\n",
       "      <th></th>\n",
       "      <th>n_partitions</th>\n",
       "      <th>modularity</th>\n",
       "      <th>ned</th>\n",
       "      <th>density</th>\n",
       "      <th>noise_classes</th>\n",
       "    </tr>\n",
       "  </thead>\n",
       "  <tbody>\n",
       "    <tr>\n",
       "      <th>576</th>\n",
       "      <td>4.0</td>\n",
       "      <td>-0.02848</td>\n",
       "      <td>0.292</td>\n",
       "      <td>6.60278</td>\n",
       "      <td>17.0</td>\n",
       "    </tr>\n",
       "  </tbody>\n",
       "</table>\n",
       "</div>"
      ],
      "text/plain": [
       "     n_partitions  modularity    ned  density  noise_classes\n",
       "576           4.0    -0.02848  0.292  6.60278           17.0"
      ]
     },
     "execution_count": 10,
     "metadata": {},
     "output_type": "execute_result"
    }
   ],
   "source": [
    "layer.chat(\"Which is the decomposition of highest modularity?\") "
   ]
  },
  {
   "cell_type": "code",
   "execution_count": 11,
   "metadata": {
    "pycharm": {
     "name": "#%%\n"
    }
   },
   "outputs": [
    {
     "name": "stdout",
     "output_type": "stream",
     "text": [
      "Intent detected: show_decomposition_in_space\n",
      "Added user message to memory: Show me the decomposition with highest density graphically\n",
      "Try to execute tool show_decomposition_in_space\n",
      "=== Calling Function ===\n",
      "Calling function: show_decomposition_in_space with args: {\"k\":1,\"metric\":\"density\",\"asc\":true}\n",
      "k                    13\n",
      "resolution     0.107422\n",
      "scenario            256\n",
      "policy              NaN\n",
      "model         jpetstore\n",
      "Name: 256, dtype: object\n"
     ]
    },
    {
     "data": {
      "image/png": "[encoded data removed]",
      "text/plain": [
       "<Figure size 800x600 with 1 Axes>"
      ]
     },
     "metadata": {},
     "output_type": "display_data"
    },
    {
     "name": "stdout",
     "output_type": "stream",
     "text": [
      "Got output: None\n",
      "========================\n",
      "\n"
     ]
    }
   ],
   "source": [
    "layer.chat(\"Show me the decomposition with highest density graphically\") "
   ]
  },
  {
   "cell_type": "code",
   "execution_count": 12,
   "metadata": {
    "pycharm": {
     "name": "#%%\n"
    }
   },
   "outputs": [
    {
     "name": "stdout",
     "output_type": "stream",
     "text": [
      "Intent detected: show_decomposition_in_space\n",
      "Added user message to memory: Show me the 10 decompositions with lowest modularity graphically\n",
      "Try to execute tool show_decomposition_in_space\n",
      "=== Calling Function ===\n",
      "Calling function: show_decomposition_in_space with args: {\"k\":10,\"metric\":\"modularity\",\"asc\":false}\n",
      "k                    37\n",
      "resolution     0.330078\n",
      "scenario            732\n",
      "policy              NaN\n",
      "model         jpetstore\n",
      "Name: 732, dtype: object\n",
      "k                    12\n",
      "resolution     1.903516\n",
      "scenario            402\n",
      "policy              NaN\n",
      "model         jpetstore\n",
      "Name: 402, dtype: object\n",
      "k                    34\n",
      "resolution     0.196484\n",
      "scenario            136\n",
      "policy              NaN\n",
      "model         jpetstore\n",
      "Name: 136, dtype: object\n",
      "k                    11\n",
      "resolution     1.651172\n",
      "scenario            211\n",
      "policy              NaN\n",
      "model         jpetstore\n",
      "Name: 211, dtype: object\n",
      "k                     9\n",
      "resolution     1.591797\n",
      "scenario            330\n",
      "policy              NaN\n",
      "model         jpetstore\n",
      "Name: 330, dtype: object\n",
      "k                    36\n",
      "resolution     1.740234\n",
      "scenario            227\n",
      "policy              NaN\n",
      "model         jpetstore\n",
      "Name: 227, dtype: object\n",
      "k                    36\n",
      "resolution     1.710547\n",
      "scenario            110\n",
      "policy              NaN\n",
      "model         jpetstore\n",
      "Name: 110, dtype: object\n",
      "k                     4\n",
      "resolution     1.458203\n",
      "scenario            477\n",
      "policy              NaN\n",
      "model         jpetstore\n",
      "Name: 477, dtype: object\n",
      "k                     2\n",
      "resolution     1.829297\n",
      "scenario            298\n",
      "policy              NaN\n",
      "model         jpetstore\n",
      "Name: 298, dtype: object\n",
      "k                    35\n",
      "resolution     1.933203\n",
      "scenario            465\n",
      "policy              NaN\n",
      "model         jpetstore\n",
      "Name: 465, dtype: object\n"
     ]
    },
    {
     "data": {
      "image/png": "[encoded data removed]",
      "text/plain": [
       "<Figure size 800x600 with 1 Axes>"
      ]
     },
     "metadata": {},
     "output_type": "display_data"
    },
    {
     "name": "stdout",
     "output_type": "stream",
     "text": [
      "Got output: None\n",
      "========================\n",
      "\n"
     ]
    }
   ],
   "source": [
    "layer.chat(\"Show me the 10 decompositions with lowest modularity graphically\") "
   ]
  }
 ],
 "metadata": {
  "kernelspec": {
   "display_name": "Poetry",
   "language": "python",
   "name": "poetry-kernel"
  },
  "language_info": {
   "codemirror_mode": {
    "name": "ipython",
    "version": 3
   },
   "file_extension": ".py",
   "mimetype": "text/x-python",
   "name": "python",
   "nbconvert_exporter": "python",
   "pygments_lexer": "ipython3",
   "version": "3.11.6"
  }
 },
 "nbformat": 4,
 "nbformat_minor": 4
}