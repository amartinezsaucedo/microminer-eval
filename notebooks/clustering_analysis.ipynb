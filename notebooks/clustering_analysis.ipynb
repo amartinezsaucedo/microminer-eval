{
 "cells": [
  {
   "cell_type": "code",
   "execution_count": null,
   "outputs": [],
   "source": [
    "import networkx as nx\n",
    "from cdlib import evaluation\n",
    "from cdlib.classes import NodeClustering\n",
    "import pickle\n",
    "from cdlib import viz\n",
    "import matplotlib.pyplot as plt\n",
    "import pandas as pd\n",
    "import seaborn as sns\n",
    "from sklearn.manifold import MDS\n",
    "import numpy as np\n",
    "from sklearn.preprocessing import StandardScaler\n",
    "from sklearn.cluster import AgglomerativeClustering\n",
    "from sklearn.decomposition import PCA\n",
    "from sklearn import metrics\n",
    "import scipy.cluster.hierarchy as sch\n",
    "from sklearn_extra.cluster import KMedoids"
   ],
   "metadata": {
    "collapsed": false,
    "pycharm": {
     "name": "#%%\n"
    }
   }
  },
  {
   "cell_type": "code",
   "execution_count": null,
   "outputs": [],
   "source": [
    "# NOTEBOOK CONFIGURATION\n",
    "PROJECT_NAME = \"jpetstore\"\n",
    "PROJECT_PATH = \"../jpetstore\""
   ],
   "metadata": {
    "collapsed": false,
    "pycharm": {
     "name": "#%%\n"
    }
   }
  },
  {
   "cell_type": "code",
   "execution_count": null,
   "outputs": [],
   "source": [
    "GRAPH_FILENAME = f\"{PROJECT_PATH}/{PROJECT_NAME}_128scenarios_nopolicies_sobol_graph.pkl\"\n",
    "java_graph = None\n",
    "with open(GRAPH_FILENAME, 'rb') as f:\n",
    "     java_graph = pickle.load(f)\n",
    "\n",
    "java_graph.nodes(data=True)\n",
    "java_graph.edges(data=True)"
   ],
   "metadata": {
    "collapsed": false,
    "pycharm": {
     "name": "#%%\n"
    }
   }
  },
  {
   "cell_type": "code",
   "execution_count": null,
   "outputs": [],
   "source": [
    "PARTITIONS_FILENAME = f\"{PROJECT_PATH}/{PROJECT_NAME}_128scenarios_nopolicies_sobol_partitions.pkl\"\n",
    "partitions_dict = None\n",
    "with open(PARTITIONS_FILENAME, 'rb') as f:\n",
    "     partitions_dict = pickle.load(f)\n",
    "\n",
    "print(\"partitions:\", len(partitions_dict))\n",
    "\n",
    "key_0 = list(partitions_dict.keys())[10]\n",
    "partitions_dict[key_0]"
   ],
   "metadata": {
    "collapsed": false,
    "pycharm": {
     "name": "#%%\n"
    }
   }
  },
  {
   "cell_type": "code",
   "execution_count": null,
   "outputs": [],
   "source": [
    "key_0 = list(partitions_dict.keys())[11]\n",
    "n_partitions = list(partitions_dict[key_0].values())\n",
    "print(len(n_partitions), \"partitions\")\n",
    "n_clustering = NodeClustering(communities=n_partitions, graph=java_graph, overlap=True)"
   ],
   "metadata": {
    "collapsed": false,
    "pycharm": {
     "name": "#%%\n"
    }
   }
  },
  {
   "cell_type": "code",
   "execution_count": null,
   "outputs": [],
   "source": [
    "# Omega index indicates the similarity between two partitions\n",
    "# If omega = 1, the two partitions are identical (distance = 0), and omega = 0 (distance = 1) is the opposite case\n",
    "# Thus, omega works as a similarity index\n",
    "def compute_omega_index(partition_i, partition_j, graph, distance=False):\n",
    "    clustering_i = NodeClustering(communities=list(partition_i.values()), graph=graph, overlap=True)\n",
    "    clustering_j = NodeClustering(communities=list(partition_j.values()), graph=graph, overlap=True)\n",
    "    if distance:\n",
    "        return 1 - evaluation.omega(clustering_i, clustering_j).score\n",
    "    else:\n",
    "        return evaluation.omega(clustering_i, clustering_j).score\n",
    "\n",
    "def get_noise_classes(partition, graph):\n",
    "    reference_class_set = set(list(graph.nodes()))\n",
    "    partition_class_set = set([x for xs in partition.values() for x in xs])\n",
    "    difference_set = reference_class_set.difference(partition_class_set)\n",
    "    return difference_set\n",
    "\n",
    "def update_partition_with_noise(partition, graph):\n",
    "    noise_classes = get_noise_classes(partition, graph)\n",
    "    if len(noise_classes) > 0:\n",
    "        partition[-1] = list(noise_classes) # -1 is the key for the noise classes\n",
    "    \n",
    "    return partition\n",
    "\n",
    "# Checking the number of classes of the whole project, versus the classes assigned to the partitions\n",
    "reference_class_set = set(list(java_graph.nodes()))\n",
    "print(\"Reference class set:\", len(reference_class_set), 'classes')\n",
    "lenght_noise_classes = set()\n",
    "for k in partitions_dict.keys():\n",
    "    n_noise = len(get_noise_classes(partitions_dict[k], java_graph))\n",
    "    lenght_noise_classes.add(n_noise)\n",
    "if len(lenght_noise_classes) == 1:\n",
    "    print(\"All the partitions have the same noise classes\", lenght_noise_classes)\n",
    "else:\n",
    "    print(\"Warning: The partitions have different numbers of noise classes!\", min(lenght_noise_classes), max(lenght_noise_classes)) "
   ],
   "metadata": {
    "collapsed": false,
    "pycharm": {
     "name": "#%%\n"
    }
   }
  },
  {
   "cell_type": "code",
   "execution_count": null,
   "outputs": [],
   "source": [
    "g = java_graph\n",
    "lp_coms = n_clustering \n",
    "print(len(lp_coms.communities))\n",
    "# TODO: Unsure if the chart is also showing classes belonging to more than one partition\n",
    "\n",
    "pos = nx.fruchterman_reingold_layout(g) #nx.spring_layout(g)\n",
    "#pos = nx.random_layout(g)\n",
    "viz.plot_network_clusters(g, lp_coms, pos, figsize=(10, 10), plot_overlaps=False, plot_labels=True, node_size=300) #, top_k=3)\n",
    "plt.title(\"All classes (grouped by communities)\")\n",
    "plt.show()\n",
    "\n",
    "viz.plot_community_graph(g, lp_coms, figsize=(5, 5), plot_overlaps=True, plot_labels=True)\n",
    "plt.title(\"Communities\")\n",
    "plt.show()"
   ],
   "metadata": {
    "collapsed": false,
    "pycharm": {
     "name": "#%%\n"
    }
   }
  },
  {
   "cell_type": "code",
   "execution_count": null,
   "outputs": [],
   "source": [
    "SIMILARITY_FILENAME = f\"{PROJECT_PATH}/{PROJECT_NAME}_omega_scores.csv\"\n",
    "\n",
    "# Load distance matrix for partitions (omega)\n",
    "partitions_distance_df = 1 - pd.read_csv(SIMILARITY_FILENAME, index_col=0)\n",
    "print(partitions_distance_df.shape)\n",
    "partitions_distance_df "
   ],
   "metadata": {
    "collapsed": false,
    "pycharm": {
     "name": "#%%\n"
    }
   }
  },
  {
   "cell_type": "code",
   "execution_count": null,
   "outputs": [],
   "source": [
    "plt.hist(np.tril(partitions_distance_df).flatten(), bins=20)\n",
    "plt.title(\"Distribution of distances (Omega) among partitions\")\n",
    "plt.show()"
   ],
   "metadata": {
    "collapsed": false,
    "pycharm": {
     "name": "#%%\n"
    }
   }
  },
  {
   "cell_type": "code",
   "execution_count": null,
   "outputs": [],
   "source": [
    "sns.set(font_scale=0.8)\n",
    "ax = sns.clustermap(partitions_distance_df, cmap='YlGnBu', robust=True, method=\"average\", \n",
    "                    figsize=(8,8), vmax=1, vmin=0)\n",
    "ax.ax_row_dendrogram.set_visible(False)\n",
    "ax.ax_col_dendrogram.set_visible(False)\n",
    "ax.ax_heatmap.set_xticklabels([])\n",
    "ax.ax_heatmap.set_yticklabels([])\n",
    "\n",
    "plt.title(\"Spatial clustering of community distances (based on Omega scores)\")\n",
    "plt.show()"
   ],
   "metadata": {
    "collapsed": false,
    "pycharm": {
     "name": "#%%\n"
    }
   }
  },
  {
   "cell_type": "code",
   "execution_count": null,
   "outputs": [],
   "source": [
    "def plot_2d_embeddings(embeddings_2d=None, title=\"\", distance_df=None, view=\"matplotlib\", partitions_dict=None):\n",
    "\n",
    "    if embeddings_2d is None:\n",
    "        mds = MDS(dissimilarity='precomputed', random_state=0)\n",
    "        embeddings_2d = mds.fit_transform(distance_df)\n",
    "\n",
    "    if view == \"matplotlib\":\n",
    "        #create scatterplot\n",
    "        plt.scatter(embeddings_2d[:,0], embeddings_2d[:,1], alpha=0.3)\n",
    "        #add axis labels\n",
    "    \n",
    "    else: # sns\n",
    "        df = pd.DataFrame(embeddings_2d, columns=['x', 'y'])\n",
    "        df['cluster size'] = [len(partitions_dict[k]) for k in partitions_dict.keys()]\n",
    "        sns.scatterplot(data=df, x=\"x\", y=\"y\", hue=\"cluster size\", palette=\"tab10\", size=\"cluster size\", \n",
    "                alpha=0.3, legend='full', sizes=(20, 200))\n",
    "\n",
    "\n",
    "    #display scatterplot\n",
    "    plt.title(title)\n",
    "    plt.grid(False)\n",
    "    plt.show()"
   ],
   "metadata": {
    "collapsed": false,
    "pycharm": {
     "name": "#%%\n"
    }
   }
  },
  {
   "cell_type": "code",
   "execution_count": null,
   "outputs": [],
   "source": [
    "# https://stackabuse.com/guide-to-multidimensional-scaling-in-python-with-scikit-learn/\n",
    "\n",
    "mds = MDS(dissimilarity='precomputed', random_state=0)\n",
    "embeddings_2d_partitions = mds.fit_transform(partitions_distance_df)"
   ],
   "metadata": {
    "collapsed": false,
    "pycharm": {
     "name": "#%%\n"
    }
   }
  },
  {
   "cell_type": "code",
   "execution_count": null,
   "outputs": [],
   "source": [
    "plot_2d_embeddings(embeddings_2d_partitions, title=\"Distribution of partitions (2D MDS)- cluster distance (1-Omega)\")"
   ],
   "metadata": {
    "collapsed": false,
    "pycharm": {
     "name": "#%%\n"
    }
   }
  },
  {
   "cell_type": "code",
   "execution_count": null,
   "outputs": [],
   "source": [
    "plot_2d_embeddings(embeddings_2d_partitions, title=\"Distribution of partitions (2D MDS)- cluster distance (1-Omega)\",\n",
    "                   view=\"sns\", partitions_dict=partitions_dict)"
   ],
   "metadata": {
    "collapsed": false,
    "pycharm": {
     "name": "#%%\n"
    }
   }
  },
  {
   "cell_type": "code",
   "execution_count": null,
   "outputs": [],
   "source": [
    "# Agglomerative (hierarchical) clustering\n",
    "def run_agglomerative(df, k, threshold=200, n_pca=None, normalize=False, show_dendogram=False, archstructure=None):\n",
    "\n",
    "  if normalize:\n",
    "    sample = StandardScaler().fit_transform(df)\n",
    "  else:\n",
    "    sample = df.values\n",
    "\n",
    "  if n_pca is not None:\n",
    "    pca = PCA(n_components=n_pca)\n",
    "    sample_pca = sample # pca.fit_transform(sample)\n",
    "    model = AgglomerativeClustering(n_clusters=k, affinity='euclidean', linkage='ward',\n",
    "                                    connectivity=archstructure, distance_threshold=threshold)\n",
    "    model.fit(sample_pca)\n",
    "    X = sample_pca\n",
    "  else:\n",
    "    # model = AgglomerativeClustering(n_clusters=k, affinity='euclidean', linkage='ward',\n",
    "    #                                 connectivity=archstructure, distance_threshold=threshold)\n",
    "    model = AgglomerativeClustering(n_clusters=k, affinity='precomputed', linkage='single',\n",
    "                                  connectivity=archstructure, distance_threshold=threshold)\n",
    "    model.fit(sample)\n",
    "    X = sample\n",
    "  labels = model.labels_\n",
    "  print(f\"Number of clusters = {1+np.amax(model.labels_)}\")\n",
    "\n",
    "  # Number of clusters in labels, ignoring noise if present.\n",
    "  n_clusters_ = len(set(labels)) - (1 if -1 in labels else 0)\n",
    "  n_noise_ = list(labels).count(-1)\n",
    "\n",
    "  #print('clusters:', clustering.labels_)\n",
    "  fixed_labels = np.where(model.labels_ < 0, 0, model.labels_)\n",
    "\n",
    "  print(\"Estimated number of clusters: %d\" % n_clusters_)\n",
    "  print(\"Estimated number of noise points: %d\" % n_noise_)\n",
    "  classes = set(fixed_labels)\n",
    "  if len(classes) > 1:\n",
    "    if n_pca is not None:\n",
    "      silhouette = metrics.silhouette_score(sample_pca, fixed_labels)\n",
    "    else:\n",
    "      silhouette = metrics.silhouette_score(sample, fixed_labels)\n",
    "  else:\n",
    "    silhouette = 0.0\n",
    "  print(\"Silhouette Coefficient: %0.3f\" % silhouette)\n",
    "\n",
    "  if show_dendogram:\n",
    "    fig = plt.figure(figsize=(20,10))\n",
    "    ax = fig.add_subplot(1, 1, 1)\n",
    "    dendrogram = sch.dendrogram(sch.linkage(X, method='ward'), ax=ax)\n",
    "    plt.show()\n",
    "\n",
    "  return fixed_labels, model, silhouette"
   ],
   "metadata": {
    "collapsed": false,
    "pycharm": {
     "name": "#%%\n"
    }
   }
  },
  {
   "cell_type": "code",
   "execution_count": null,
   "outputs": [],
   "source": [
    "# Agglomerative clustering using the distance matrix of partitions\n",
    "partition_labels, _, silhouette = run_agglomerative(partitions_distance_df, k=4, threshold=None, show_dendogram=False)\n",
    "\n",
    "classes = set(partition_labels)\n",
    "print(silhouette, len(classes))"
   ],
   "metadata": {
    "collapsed": false,
    "pycharm": {
     "name": "#%%\n"
    }
   }
  },
  {
   "cell_type": "code",
   "execution_count": null,
   "outputs": [],
   "source": [
    "# Alternative using agglomerative clustering but on the MDS 2D embeddings\n",
    "partition_labels_2d, _, silhouette = run_agglomerative(embeddings_2d_partitions, k=5, threshold=None, \n",
    "                                                       show_dendogram=True, normalize=True, n_pca=2)\n",
    "\n",
    "classes = set(partition_labels_2d)\n",
    "print(silhouette, len(classes))"
   ],
   "metadata": {
    "collapsed": false,
    "pycharm": {
     "name": "#%%\n"
    }
   }
  },
  {
   "cell_type": "code",
   "execution_count": null,
   "outputs": [],
   "source": [
    "def select_medoids_from_clusters(embeddings_2d, partition_labels, distance_df):\n",
    "    # Visit each cluster and select a medoid (representative) for each\n",
    "    classes = set(partition_labels)\n",
    "    medoids = []\n",
    "    medoid_labels = []\n",
    "    for c in classes:\n",
    "        print(\"Cluster:\", c)\n",
    "        cluster_indices = [i for i, x in enumerate(partition_labels) if x == c]\n",
    "        print(\"   \", len(cluster_indices), \"elements\")\n",
    "        cluster_distances = []\n",
    "        for i in cluster_indices:\n",
    "            cluster_distances.append(np.sum(distance_df.iloc[i, cluster_indices]))\n",
    "        idx = cluster_indices[np.argmin(cluster_distances)]\n",
    "        print(\"   medoid:\", idx, distance_df.columns[idx])\n",
    "        medoid_labels.append(distance_df.columns[idx])\n",
    "        # TODO: Use instead as below\n",
    "        kmodel = KMedoids(n_clusters=1, method='pam').fit(embeddings_2d[cluster_indices])\n",
    "        medoids.extend(kmodel.cluster_centers_) # print(kmodel.medoid_indices_)\n",
    "\n",
    "    return medoids, medoid_labels"
   ],
   "metadata": {
    "collapsed": false,
    "pycharm": {
     "name": "#%%\n"
    }
   }
  },
  {
   "cell_type": "code",
   "execution_count": null,
   "outputs": [],
   "source": [
    "coordinates_2d, m_labels = select_medoids_from_clusters(embeddings_2d_partitions, partition_labels_2d, partitions_distance_df)\n",
    "print(coordinates_2d)\n",
    "print(m_labels)"
   ],
   "metadata": {
    "collapsed": false,
    "pycharm": {
     "name": "#%%\n"
    }
   }
  },
  {
   "cell_type": "code",
   "execution_count": null,
   "outputs": [],
   "source": [
    "def get_xy_coordinates(labels, embeddings_2d, distance_df):\n",
    "    xy_coordinates = []\n",
    "    for lb in labels:\n",
    "        idx = list(distance_df.columns).index(lb)\n",
    "        xy_coordinates.append(embeddings_2d[idx])\n",
    "    return xy_coordinates\n",
    "\n",
    "\n",
    "def show_clusters(embeddings_2d, partition_labels, medoid_labels=[], distance_df=None, title=\"\", \n",
    "                  show_labels=False, alpha=0.3, size=(8,8)):\n",
    "\n",
    "    fig = plt.figure(figsize=size)\n",
    "    df = pd.DataFrame(embeddings_2d, columns=['x', 'y'])\n",
    "    df['cluster'] = partition_labels \n",
    "    ax = sns.scatterplot(data=df, x=\"x\", y=\"y\", hue=\"cluster\", palette=\"tab10\", alpha=alpha, legend='full', sizes=(20, 200))\n",
    "    ax.set(xlabel=None)\n",
    "    ax.set(ylabel=None)\n",
    "    if len(medoid_labels) > 0:\n",
    "        medoids = np.array(get_xy_coordinates(medoid_labels, embeddings_2d, distance_df))\n",
    "        ax.plot(medoids[:,0], medoids[:,1], 'X', markersize=9, alpha=0.7, color='black')\n",
    "        # Annotate the labels\n",
    "        if show_labels:\n",
    "            for idx, lb in enumerate(medoid_labels):\n",
    "                ax.annotate(lb, (medoids[idx,0], medoids[idx,1]))\n",
    "    \n",
    "    plt.grid(False)\n",
    "    plt.title(title)\n",
    "    plt.show()"
   ],
   "metadata": {
    "collapsed": false,
    "pycharm": {
     "name": "#%%\n"
    }
   }
  },
  {
   "cell_type": "code",
   "execution_count": null,
   "outputs": [],
   "source": [
    "show_clusters(embeddings_2d_partitions, partition_labels_2d, distance_df=partitions_distance_df, size=(8,6),\n",
    "                            title=\"Clusters and centroids (2D MDS)\", medoid_labels=m_labels, show_labels=True)"
   ],
   "metadata": {
    "collapsed": false,
    "pycharm": {
     "name": "#%%\n"
    }
   }
  },
  {
   "cell_type": "code",
   "execution_count": null,
   "outputs": [],
   "source": [
    "STABLE_SOLUTIONS_FILENAME = f\"{PROJECT_PATH}/{PROJECT_NAME}_stable_solutions.pkl\"\n",
    "\n",
    "other_labels=[]\n",
    "stable_solutions_dict = None\n",
    "with open(STABLE_SOLUTIONS_FILENAME, 'rb') as f:\n",
    "     stable_solutions_dict = pickle.load(f)\n",
    "     other_labels = stable_solutions_dict.keys()\n",
    "     print(len(other_labels), \"stable solutions\")\n",
    "     values = list(stable_solutions_dict.values())\n",
    "     print(\"range:\", min(values), max(values))\n",
    "\n",
    "\n",
    "show_clusters(embeddings_2d_partitions, partition_labels_2d, distance_df=partitions_distance_df, size=(8,6),\n",
    "                            title=\"Clusters and stable solutions (2D MDS)\", medoid_labels=other_labels, show_labels=False)"
   ],
   "metadata": {
    "collapsed": false,
    "pycharm": {
     "name": "#%%\n"
    }
   }
  },
  {
   "cell_type": "code",
   "execution_count": null,
   "outputs": [],
   "source": [
    "DISTANCE_FILENAME = f\"{PROJECT_PATH}/{PROJECT_NAME}_parameter_distances.csv\"\n",
    "\n",
    "print(\"Computing parameter distances ...\")\n",
    "resolution_distance_df = pd.read_csv(DISTANCE_FILENAME, index_col=0)\n",
    "\n",
    "print(resolution_distance_df.shape)\n",
    "resolution_distance_np = np.tril(resolution_distance_df).flatten()\n",
    "min_non_zero = np.min(resolution_distance_np[np.nonzero(resolution_distance_np)])\n",
    "print(\"min-max distances:\", min_non_zero, resolution_distance_np.max())\n",
    "\n",
    "plt.hist(resolution_distance_np, bins=20)\n",
    "plt.title(\"Distribution of parameter distances (resolution) among partitions\")\n",
    "plt.show()"
   ],
   "metadata": {
    "collapsed": false,
    "pycharm": {
     "name": "#%%\n"
    }
   }
  },
  {
   "cell_type": "code",
   "execution_count": null,
   "outputs": [],
   "source": [
    "plot_2d_embeddings(title=\"Distribution of partitions (2D MDS)- relevant parameters\", distance_df=resolution_distance_df)"
   ],
   "metadata": {
    "collapsed": false,
    "pycharm": {
     "name": "#%%\n"
    }
   }
  },
  {
   "cell_type": "code",
   "execution_count": null,
   "outputs": [],
   "source": [
    "from ema_workbench import load_results\n",
    "\n",
    "def calculate_stability(row, stable_solutions_dict, default_value=0.0):\n",
    "    lb = 'resolution_'+str(row['resolution'])+'_alpha_'+str(row['alpha'])+'_mfuzzy_'+str(row['mfuzzy'])+'_mthreshold_'+str(row['microservice_threshold'])\n",
    "    if lb in stable_solutions_dict.keys():\n",
    "        return stable_solutions_dict[lb]\n",
    "    return default_value\n",
    "\n",
    "\n",
    "MODEL_FILENAME = f\"{PROJECT_PATH}/{PROJECT_NAME}_128scenarios_nopolicies_sobol\" #.tar.gz'\n",
    "\n",
    "ALL_PARAMETERS = ['alpha',  'mfuzzy',  'microservice_threshold',  'resolution']\n",
    "\n",
    "experiments_df, outcomes = load_results(MODEL_FILENAME+ '.tar.gz')\n",
    "print(experiments_df.shape)\n",
    "experiments_df = experiments_df[ALL_PARAMETERS].drop_duplicates(keep='first')\n",
    "experiments_df['stability'] = experiments_df.apply(lambda x: calculate_stability(x,stable_solutions_dict), axis=1)\n",
    "print(experiments_df.shape)\n",
    "\n",
    "relevant_parameters = ['resolution', 'mfuzzy', 'microservice_threshold', 'stability'] # ['resolution'] # ALL_PARAMETERS\n",
    "\n",
    "experiments_df = experiments_df[relevant_parameters]\n",
    "experiments_df"
   ],
   "metadata": {
    "collapsed": false,
    "pycharm": {
     "name": "#%%\n"
    }
   }
  },
  {
   "cell_type": "code",
   "execution_count": null,
   "outputs": [],
   "source": [
    "from matplotlib.colors import LogNorm\n",
    "\n",
    "# https://jakevdp.github.io/PythonDataScienceHandbook/04.12-three-dimensional-plotting.html\n",
    "# https://pythonnumericalmethods.berkeley.edu/notebooks/chapter12.02-3D-Plotting.html\n",
    "\n",
    "plt.rcParams['grid.color'] = \"lightgray\"\n",
    "\n",
    "fig = plt.figure(figsize=(8,6))\n",
    "ax = plt.axes(projection='3d')\n",
    "\n",
    "# Data for a three-dimensional line\n",
    "# zline = np.linspace(0, 15, 1000)\n",
    "# xline = np.sin(zline)\n",
    "# yline = np.cos(zline)\n",
    "# ax.plot3D(xline, yline, zline, 'gray')\n",
    "\n",
    "# Data for three-dimensional scattered points\n",
    "experiments_df.sort_values('stability', inplace=True) # To plot it correctly\n",
    "zdata = experiments_df['mfuzzy'].tolist() # 15 * np.random.random(100)\n",
    "xdata = experiments_df['microservice_threshold'].tolist() # np.sin(zdata) + 0.1 * np.random.randn(100)\n",
    "ydata = experiments_df['resolution'].tolist() # np.cos(zdata) + 0.1 * np.random.randn(100)\n",
    "# ax.grid(False)\n",
    "ax.set_facecolor('white')\n",
    "#p3d = ax.scatter3D(xdata, ydata, zdata, c=zdata, cmap='Greens', s=50)\n",
    "stability_values = experiments_df['stability'].tolist()\n",
    "norm_color = LogNorm(vmin=min(stability_values), vmax=max(stability_values))\n",
    "p3d = ax.scatter3D(xdata, ydata, zdata, c=stability_values, s=25, cmap='magma_r', alpha=0.75, edgecolors='dimgrey', marker='s',\n",
    "                   vmin=0.01, vmax=0.22) #zorder=stability_values)\n",
    "plt.colorbar(p3d)\n",
    "\n",
    "ax.set_title('3D Parameter Grid', fontsize=12)\n",
    "ax.set_xlabel('microservice_threshold', fontsize=10)\n",
    "ax.set_ylabel('resolution', fontsize=10)\n",
    "ax.set_zlabel('mfuzzy', fontsize=10, rotation=0)\n",
    "ax.zaxis.labelpad=-3 # <- change the value here\n",
    "# The fix\n",
    "for spine in ax.spines.values():\n",
    "    spine.set_visible(True)\n",
    "# plt.tight_layout()\n",
    "plt.show()"
   ],
   "metadata": {
    "collapsed": false,
    "pycharm": {
     "name": "#%%\n"
    }
   }
  },
  {
   "cell_type": "code",
   "execution_count": 27,
   "metadata": {
    "pycharm": {
     "name": "#%%\n"
    }
   },
   "outputs": [
    {
     "data": {
      "image/png": "[encoded data removed]",
      "text/plain": [
       "<Figure size 640x480 with 1 Axes>"
      ]
     },
     "metadata": {},
     "output_type": "display_data"
    }
   ],
   "source": [
    "df = pd.DataFrame(embeddings_2d_partitions, columns=['x', 'y'])\n",
    "df['stability'] = experiments_df['stability'].tolist()\n",
    "df.sort_values('stability', inplace=True) # To plot it correctly\n",
    "ax = sns.scatterplot(data=df, x=\"x\", y=\"y\", hue=\"stability\", palette=\"magma_r\", edgecolors='dimgrey',  alpha=0.7, s=35, marker='o')\n",
    "ax.set(xlabel=None)\n",
    "ax.set(ylabel=None)\n",
    "ax.set_title('Solutions (2D MDS)', fontsize=12)\n",
    "plt.grid(False)\n",
    "plt.show()"
   ]
  }
 ],
 "metadata": {
  "kernelspec": {
   "display_name": "Python 3 (ipykernel)",
   "language": "python",
   "name": "python3"
  },
  "language_info": {
   "codemirror_mode": {
    "name": "ipython",
    "version": 3
   },
   "file_extension": ".py",
   "mimetype": "text/x-python",
   "name": "python",
   "nbconvert_exporter": "python",
   "pygments_lexer": "ipython3",
   "version": "3.11.6"
  }
 },
 "nbformat": 4,
 "nbformat_minor": 4
}